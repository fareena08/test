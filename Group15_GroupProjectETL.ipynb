{
  "nbformat": 4,
  "nbformat_minor": 0,
  "metadata": {
    "colab": {
      "provenance": []
    },
    "kernelspec": {
      "name": "python3",
      "display_name": "Python 3"
    },
    "language_info": {
      "name": "python"
    }
  },
  "cells": [
    {
      "cell_type": "markdown",
      "source": [
        "#**Group Project - ETL (Extract Transform Load)**\n",
        "###**Group:** 15\n",
        "###**Title:** CARSOME website\n",
        "###**Business Need**: Recommended Affordable Daily Cars in CARSOME\n",
        "###**Group Members:**\n",
        "1. Fareena binti Mohammad Firdaus (A181617)\n",
        "2. Nor Syamimi binti Zainol (A181342)\n",
        "3. Nurul Syafiqah binti Mohd Daud (A179965)\n",
        "4. Syafiqah binti Mohamad Zaki (A181538)\n",
        "\n"
      ],
      "metadata": {
        "id": "hm0X4j5fxnfi"
      }
    },
    {
      "cell_type": "markdown",
      "source": [
        "#**1. Extract**"
      ],
      "metadata": {
        "id": "_Vn_Ybj9Fkfx"
      }
    },
    {
      "cell_type": "markdown",
      "source": [
        "###Import Libraries"
      ],
      "metadata": {
        "id": "Oi985w0J1FWG"
      }
    },
    {
      "cell_type": "code",
      "execution_count": 61,
      "metadata": {
        "id": "SdjDkZ_UZ1yZ"
      },
      "outputs": [],
      "source": [
        "#importing required libraries\n",
        "import requests\n",
        "import numpy as np\n",
        "import requests\n",
        "import pandas as pd\n",
        "from bs4 import BeautifulSoup\n",
        "from time import sleep\n",
        "from random import randint"
      ]
    },
    {
      "cell_type": "markdown",
      "source": [
        "###Attributes"
      ],
      "metadata": {
        "id": "Ipjk3zvR1b6G"
      }
    },
    {
      "cell_type": "code",
      "source": [
        "#creating an empty array, so that we can append the values\n",
        "#Syamimi\n",
        "car_brand = []\n",
        "car_title = [] #car model\n",
        "\n",
        "#Fareena\n",
        "total_price = []\n",
        "car_transmission = [] #auto or manual\n",
        "\n",
        "#Syafiqah daud\n",
        "price_per_month = []\n",
        "car_highlights = []\n",
        "\n",
        "#Syafiqah zaki\n",
        "car_location = []\n",
        "car_mileage = []\n"
      ],
      "metadata": {
        "id": "9mRvPUte1YvK"
      },
      "execution_count": 66,
      "outputs": []
    },
    {
      "cell_type": "markdown",
      "source": [
        "###Data Extraction"
      ],
      "metadata": {
        "id": "ZAD-SQfMFg_k"
      }
    },
    {
      "cell_type": "code",
      "source": [
        "#Extract data from 11 pages\n",
        "for i in range (1,11):\n",
        "  url = f'https://www.carsome.my/buy-car?bodyType=1&budget=10000,50000&pageNo={i}'\n",
        "  #request allow you to send HTTP request\n",
        "  response = requests.get(url)\n",
        "  response = response.content\n",
        "  soup = BeautifulSoup(response, 'html.parser')\n",
        "\n",
        "  #storing the required data in the variable\n",
        "  car_data = soup.findAll('article', attrs= {'class': 'mod-card'})\n",
        "  sleep(randint(2,8)) #load every 2 to 8 second \n",
        "\n",
        "  for store in car_data:\n",
        "    carBrand = store.find('a', class_='mod-card__title').p.text.replace('\\n','')\n",
        "    car_brand.append(carBrand)\n",
        "\n",
        "    carName = store.find('a', class_='mod-card__title').p.find_next().text.replace('\\n','')\n",
        "    car_title.append(carName)\n",
        "\n",
        "    carTotalPrice = store.find('div', class_='mod-card__price__total').text.replace('\\n','')\n",
        "    total_price.append(carTotalPrice)\n",
        "\n",
        "    pricePerMonth = store.find('div', class_= 'd-flex align-center justify-end price-text').span.text.replace('\\n','')\n",
        "    price_per_month.append(pricePerMonth)\n",
        " \n",
        "    carMileage = store.find('div', class_ = 'mod-card__car-other').span.text.replace('\\n', '')\n",
        "    car_mileage.append(carMileage)\n",
        "\n",
        "    carTransmission = store.find('div', class_ = 'mod-card__car-other').span.find_next('span').text.replace('\\n', '')\n",
        "    car_transmission.append(carTransmission)\n",
        "\n",
        "    carLocation = store.find('div', class_ = 'mod-card__car-other').span.find_next('span').find_next('span').text.replace('\\n', '')\n",
        "    car_location.append(carLocation)\n",
        "\n",
        "    carspec = store.find('div', class_ = 'mod-card__high-tag-list').findAll('span')\n",
        "    if len(carspec)==3:\n",
        "      carspec = store.find('div', class_ = 'mod-card__high-tag-list').span.text\n",
        "      carspec2 = store.find('div', class_ = 'mod-card__high-tag-list').span.find_next('span').text\n",
        "      carspec3 = store.find('div', class_ = 'mod-card__high-tag-list').span.find_next('span').find_next('span').text\n",
        "\n",
        "      lst=[carspec, carspec2, carspec3]\n",
        "      car_spec = \", \". join(lst)\n",
        "    \n",
        "    else:\n",
        "      carspec = store.find('div', class_ = 'mod-card__high-tag-list').span.text\n",
        "      carspec2 = store.find('div', class_ = 'mod-card__high-tag-list').span.find_next('span').text\n",
        "\n",
        "      lst=[carspec, carspec2]\n",
        "      car_spec = \", \". join(lst)\n",
        "    \n",
        "    car_highlights.append(car_spec)\n"
      ],
      "metadata": {
        "id": "XXV1EtHnbbha"
      },
      "execution_count": 67,
      "outputs": []
    },
    {
      "cell_type": "code",
      "source": [
        "df = pd.DataFrame({'Car Model': car_title,\n",
        "                   'Car Brand' : car_brand,\n",
        "                   'Total Price' : total_price, \n",
        "                   'Price/Month' : price_per_month, \n",
        "                   'Mileage' : car_mileage,\n",
        "                   'Transmission' : car_transmission,\n",
        "                   'Location' : car_location,\n",
        "                   'Highlights' : car_highlights\n",
        "                    })"
      ],
      "metadata": {
        "id": "yp_qyvoxh0Px"
      },
      "execution_count": 68,
      "outputs": []
    },
    {
      "cell_type": "code",
      "source": [
        "#total number of data(row)\n",
        "len(df)"
      ],
      "metadata": {
        "colab": {
          "base_uri": "https://localhost:8080/"
        },
        "id": "SG-4vwZT4GxJ",
        "outputId": "17fbaf3d-98fa-4471-e398-c475e8128a18"
      },
      "execution_count": 69,
      "outputs": [
        {
          "output_type": "execute_result",
          "data": {
            "text/plain": [
              "108"
            ]
          },
          "metadata": {},
          "execution_count": 69
        }
      ]
    },
    {
      "cell_type": "code",
      "source": [
        "df.head(len(df))"
      ],
      "metadata": {
        "colab": {
          "base_uri": "https://localhost:8080/",
          "height": 1000
        },
        "id": "2_oCjbjhjM7H",
        "outputId": "07d64176-5458-4c9a-eeae-42b7b37df03e"
      },
      "execution_count": 70,
      "outputs": [
        {
          "output_type": "execute_result",
          "data": {
            "text/plain": [
              "                                             Car Model  \\\n",
              "0              Bezza        X Premium        1.3         \n",
              "1              Elantra        EX Plus        1.6         \n",
              "2               City        S+ i-VTEC        1.5         \n",
              "3              Bezza        X Premium        1.3         \n",
              "4              Bezza        X Premium        1.3         \n",
              "..                                                 ...   \n",
              "103            Persona        Premium        1.6         \n",
              "104              Saga        Standard        1.3         \n",
              "105          Persona        Executive        1.6         \n",
              "106                    Bezza        G        1.0         \n",
              "107           Persona        Standard        1.6         \n",
              "\n",
              "                             Car Brand                   Total Price  \\\n",
              "0            2016        Perodua                  RM          38,800   \n",
              "1            2015        Hyundai                  RM          43,100   \n",
              "2              2015        Honda                  RM          48,900   \n",
              "3            2016        Perodua                  RM          37,400   \n",
              "4            2017        Perodua                  RM          39,400   \n",
              "..                                 ...                           ...   \n",
              "103           2017        Proton                  RM          38,200   \n",
              "104           2020        Proton                  RM          34,900   \n",
              "105           2019        Proton                  RM          42,800   \n",
              "106          2022        Perodua                  RM          36,400   \n",
              "107           2019        Proton                  RM          39,900   \n",
              "\n",
              "                     Price/Month     Mileage Transmission      Location  \\\n",
              "0              RM 425/mo          100,275 km    Automatic        Pahang   \n",
              "1              RM 472/mo          117,616 km    Automatic      Selangor   \n",
              "2              RM 536/mo           95,044 km    Automatic        Melaka   \n",
              "3              RM 410/mo          111,466 km    Automatic        Pahang   \n",
              "4              RM 432/mo           96,808 km    Automatic         Johor   \n",
              "..                           ...         ...          ...           ...   \n",
              "103            RM 419/mo           89,684 km    Automatic  Kuala Lumpur   \n",
              "104            RM 382/mo           15,971 km    Automatic        Melaka   \n",
              "105            RM 469/mo           55,464 km    Automatic        Melaka   \n",
              "106            RM 399/mo            9,057 km    Automatic  Kuala Lumpur   \n",
              "107            RM 437/mo           41,631 km    Automatic         Perak   \n",
              "\n",
              "                                            Highlights  \n",
              "0             View 360, Keyless Push Start, SRS Airbag  \n",
              "1               View 360, Leather Seat, Android Player  \n",
              "2                  Alarm System, SRS Airbag, ABS Brake  \n",
              "3              View 360, Keyless Push Start, ABS Brake  \n",
              "4         View 360, Android Player, Keyless Push Start  \n",
              "..                                                 ...  \n",
              "103           View 360, Android Player, Reverse Camera  \n",
              "104                    View 360, ABS Brake, SRS Airbag  \n",
              "105  View 360, Keyless Push Start, Touchscreen Audi...  \n",
              "106                ABS Brake, SRS Airbag, Alarm System  \n",
              "107  View 360, Keyless Push Start, Touchscreen Audi...  \n",
              "\n",
              "[108 rows x 8 columns]"
            ],
            "text/html": [
              "\n",
              "  <div id=\"df-bae2f905-c0ea-45d8-82a1-04c017957176\">\n",
              "    <div class=\"colab-df-container\">\n",
              "      <div>\n",
              "<style scoped>\n",
              "    .dataframe tbody tr th:only-of-type {\n",
              "        vertical-align: middle;\n",
              "    }\n",
              "\n",
              "    .dataframe tbody tr th {\n",
              "        vertical-align: top;\n",
              "    }\n",
              "\n",
              "    .dataframe thead th {\n",
              "        text-align: right;\n",
              "    }\n",
              "</style>\n",
              "<table border=\"1\" class=\"dataframe\">\n",
              "  <thead>\n",
              "    <tr style=\"text-align: right;\">\n",
              "      <th></th>\n",
              "      <th>Car Model</th>\n",
              "      <th>Car Brand</th>\n",
              "      <th>Total Price</th>\n",
              "      <th>Price/Month</th>\n",
              "      <th>Mileage</th>\n",
              "      <th>Transmission</th>\n",
              "      <th>Location</th>\n",
              "      <th>Highlights</th>\n",
              "    </tr>\n",
              "  </thead>\n",
              "  <tbody>\n",
              "    <tr>\n",
              "      <th>0</th>\n",
              "      <td>Bezza        X Premium        1.3</td>\n",
              "      <td>2016        Perodua</td>\n",
              "      <td>RM          38,800</td>\n",
              "      <td>RM 425/mo</td>\n",
              "      <td>100,275 km</td>\n",
              "      <td>Automatic</td>\n",
              "      <td>Pahang</td>\n",
              "      <td>View 360, Keyless Push Start, SRS Airbag</td>\n",
              "    </tr>\n",
              "    <tr>\n",
              "      <th>1</th>\n",
              "      <td>Elantra        EX Plus        1.6</td>\n",
              "      <td>2015        Hyundai</td>\n",
              "      <td>RM          43,100</td>\n",
              "      <td>RM 472/mo</td>\n",
              "      <td>117,616 km</td>\n",
              "      <td>Automatic</td>\n",
              "      <td>Selangor</td>\n",
              "      <td>View 360, Leather Seat, Android Player</td>\n",
              "    </tr>\n",
              "    <tr>\n",
              "      <th>2</th>\n",
              "      <td>City        S+ i-VTEC        1.5</td>\n",
              "      <td>2015        Honda</td>\n",
              "      <td>RM          48,900</td>\n",
              "      <td>RM 536/mo</td>\n",
              "      <td>95,044 km</td>\n",
              "      <td>Automatic</td>\n",
              "      <td>Melaka</td>\n",
              "      <td>Alarm System, SRS Airbag, ABS Brake</td>\n",
              "    </tr>\n",
              "    <tr>\n",
              "      <th>3</th>\n",
              "      <td>Bezza        X Premium        1.3</td>\n",
              "      <td>2016        Perodua</td>\n",
              "      <td>RM          37,400</td>\n",
              "      <td>RM 410/mo</td>\n",
              "      <td>111,466 km</td>\n",
              "      <td>Automatic</td>\n",
              "      <td>Pahang</td>\n",
              "      <td>View 360, Keyless Push Start, ABS Brake</td>\n",
              "    </tr>\n",
              "    <tr>\n",
              "      <th>4</th>\n",
              "      <td>Bezza        X Premium        1.3</td>\n",
              "      <td>2017        Perodua</td>\n",
              "      <td>RM          39,400</td>\n",
              "      <td>RM 432/mo</td>\n",
              "      <td>96,808 km</td>\n",
              "      <td>Automatic</td>\n",
              "      <td>Johor</td>\n",
              "      <td>View 360, Android Player, Keyless Push Start</td>\n",
              "    </tr>\n",
              "    <tr>\n",
              "      <th>...</th>\n",
              "      <td>...</td>\n",
              "      <td>...</td>\n",
              "      <td>...</td>\n",
              "      <td>...</td>\n",
              "      <td>...</td>\n",
              "      <td>...</td>\n",
              "      <td>...</td>\n",
              "      <td>...</td>\n",
              "    </tr>\n",
              "    <tr>\n",
              "      <th>103</th>\n",
              "      <td>Persona        Premium        1.6</td>\n",
              "      <td>2017        Proton</td>\n",
              "      <td>RM          38,200</td>\n",
              "      <td>RM 419/mo</td>\n",
              "      <td>89,684 km</td>\n",
              "      <td>Automatic</td>\n",
              "      <td>Kuala Lumpur</td>\n",
              "      <td>View 360, Android Player, Reverse Camera</td>\n",
              "    </tr>\n",
              "    <tr>\n",
              "      <th>104</th>\n",
              "      <td>Saga        Standard        1.3</td>\n",
              "      <td>2020        Proton</td>\n",
              "      <td>RM          34,900</td>\n",
              "      <td>RM 382/mo</td>\n",
              "      <td>15,971 km</td>\n",
              "      <td>Automatic</td>\n",
              "      <td>Melaka</td>\n",
              "      <td>View 360, ABS Brake, SRS Airbag</td>\n",
              "    </tr>\n",
              "    <tr>\n",
              "      <th>105</th>\n",
              "      <td>Persona        Executive        1.6</td>\n",
              "      <td>2019        Proton</td>\n",
              "      <td>RM          42,800</td>\n",
              "      <td>RM 469/mo</td>\n",
              "      <td>55,464 km</td>\n",
              "      <td>Automatic</td>\n",
              "      <td>Melaka</td>\n",
              "      <td>View 360, Keyless Push Start, Touchscreen Audi...</td>\n",
              "    </tr>\n",
              "    <tr>\n",
              "      <th>106</th>\n",
              "      <td>Bezza        G        1.0</td>\n",
              "      <td>2022        Perodua</td>\n",
              "      <td>RM          36,400</td>\n",
              "      <td>RM 399/mo</td>\n",
              "      <td>9,057 km</td>\n",
              "      <td>Automatic</td>\n",
              "      <td>Kuala Lumpur</td>\n",
              "      <td>ABS Brake, SRS Airbag, Alarm System</td>\n",
              "    </tr>\n",
              "    <tr>\n",
              "      <th>107</th>\n",
              "      <td>Persona        Standard        1.6</td>\n",
              "      <td>2019        Proton</td>\n",
              "      <td>RM          39,900</td>\n",
              "      <td>RM 437/mo</td>\n",
              "      <td>41,631 km</td>\n",
              "      <td>Automatic</td>\n",
              "      <td>Perak</td>\n",
              "      <td>View 360, Keyless Push Start, Touchscreen Audi...</td>\n",
              "    </tr>\n",
              "  </tbody>\n",
              "</table>\n",
              "<p>108 rows × 8 columns</p>\n",
              "</div>\n",
              "      <button class=\"colab-df-convert\" onclick=\"convertToInteractive('df-bae2f905-c0ea-45d8-82a1-04c017957176')\"\n",
              "              title=\"Convert this dataframe to an interactive table.\"\n",
              "              style=\"display:none;\">\n",
              "        \n",
              "  <svg xmlns=\"http://www.w3.org/2000/svg\" height=\"24px\"viewBox=\"0 0 24 24\"\n",
              "       width=\"24px\">\n",
              "    <path d=\"M0 0h24v24H0V0z\" fill=\"none\"/>\n",
              "    <path d=\"M18.56 5.44l.94 2.06.94-2.06 2.06-.94-2.06-.94-.94-2.06-.94 2.06-2.06.94zm-11 1L8.5 8.5l.94-2.06 2.06-.94-2.06-.94L8.5 2.5l-.94 2.06-2.06.94zm10 10l.94 2.06.94-2.06 2.06-.94-2.06-.94-.94-2.06-.94 2.06-2.06.94z\"/><path d=\"M17.41 7.96l-1.37-1.37c-.4-.4-.92-.59-1.43-.59-.52 0-1.04.2-1.43.59L10.3 9.45l-7.72 7.72c-.78.78-.78 2.05 0 2.83L4 21.41c.39.39.9.59 1.41.59.51 0 1.02-.2 1.41-.59l7.78-7.78 2.81-2.81c.8-.78.8-2.07 0-2.86zM5.41 20L4 18.59l7.72-7.72 1.47 1.35L5.41 20z\"/>\n",
              "  </svg>\n",
              "      </button>\n",
              "      \n",
              "  <style>\n",
              "    .colab-df-container {\n",
              "      display:flex;\n",
              "      flex-wrap:wrap;\n",
              "      gap: 12px;\n",
              "    }\n",
              "\n",
              "    .colab-df-convert {\n",
              "      background-color: #E8F0FE;\n",
              "      border: none;\n",
              "      border-radius: 50%;\n",
              "      cursor: pointer;\n",
              "      display: none;\n",
              "      fill: #1967D2;\n",
              "      height: 32px;\n",
              "      padding: 0 0 0 0;\n",
              "      width: 32px;\n",
              "    }\n",
              "\n",
              "    .colab-df-convert:hover {\n",
              "      background-color: #E2EBFA;\n",
              "      box-shadow: 0px 1px 2px rgba(60, 64, 67, 0.3), 0px 1px 3px 1px rgba(60, 64, 67, 0.15);\n",
              "      fill: #174EA6;\n",
              "    }\n",
              "\n",
              "    [theme=dark] .colab-df-convert {\n",
              "      background-color: #3B4455;\n",
              "      fill: #D2E3FC;\n",
              "    }\n",
              "\n",
              "    [theme=dark] .colab-df-convert:hover {\n",
              "      background-color: #434B5C;\n",
              "      box-shadow: 0px 1px 3px 1px rgba(0, 0, 0, 0.15);\n",
              "      filter: drop-shadow(0px 1px 2px rgba(0, 0, 0, 0.3));\n",
              "      fill: #FFFFFF;\n",
              "    }\n",
              "  </style>\n",
              "\n",
              "      <script>\n",
              "        const buttonEl =\n",
              "          document.querySelector('#df-bae2f905-c0ea-45d8-82a1-04c017957176 button.colab-df-convert');\n",
              "        buttonEl.style.display =\n",
              "          google.colab.kernel.accessAllowed ? 'block' : 'none';\n",
              "\n",
              "        async function convertToInteractive(key) {\n",
              "          const element = document.querySelector('#df-bae2f905-c0ea-45d8-82a1-04c017957176');\n",
              "          const dataTable =\n",
              "            await google.colab.kernel.invokeFunction('convertToInteractive',\n",
              "                                                     [key], {});\n",
              "          if (!dataTable) return;\n",
              "\n",
              "          const docLinkHtml = 'Like what you see? Visit the ' +\n",
              "            '<a target=\"_blank\" href=https://colab.research.google.com/notebooks/data_table.ipynb>data table notebook</a>'\n",
              "            + ' to learn more about interactive tables.';\n",
              "          element.innerHTML = '';\n",
              "          dataTable['output_type'] = 'display_data';\n",
              "          await google.colab.output.renderOutput(dataTable, element);\n",
              "          const docLink = document.createElement('div');\n",
              "          docLink.innerHTML = docLinkHtml;\n",
              "          element.appendChild(docLink);\n",
              "        }\n",
              "      </script>\n",
              "    </div>\n",
              "  </div>\n",
              "  "
            ]
          },
          "metadata": {},
          "execution_count": 70
        }
      ]
    },
    {
      "cell_type": "markdown",
      "source": [
        "#**2. Transform**"
      ],
      "metadata": {
        "id": "KEtnuRiu3iqY"
      }
    },
    {
      "cell_type": "markdown",
      "source": [
        "###**a. Data Processing**"
      ],
      "metadata": {
        "id": "1DBimhGD3zVv"
      }
    },
    {
      "cell_type": "code",
      "source": [
        "df.info()"
      ],
      "metadata": {
        "colab": {
          "base_uri": "https://localhost:8080/"
        },
        "id": "Ew8rfvxZ41pC",
        "outputId": "d00fa2ec-fcd6-488a-862d-66b07a07a041"
      },
      "execution_count": null,
      "outputs": [
        {
          "output_type": "stream",
          "name": "stdout",
          "text": [
            "<class 'pandas.core.frame.DataFrame'>\n",
            "RangeIndex: 108 entries, 0 to 107\n",
            "Data columns (total 8 columns):\n",
            " #   Column        Non-Null Count  Dtype \n",
            "---  ------        --------------  ----- \n",
            " 0   Car Model     108 non-null    object\n",
            " 1   Car Brand     108 non-null    object\n",
            " 2   Total Price   108 non-null    object\n",
            " 3   Price/Month   108 non-null    object\n",
            " 4   Mileage       108 non-null    object\n",
            " 5   Transmission  108 non-null    object\n",
            " 6   Location      108 non-null    object\n",
            " 7   Highlights    108 non-null    object\n",
            "dtypes: object(8)\n",
            "memory usage: 6.9+ KB\n"
          ]
        }
      ]
    },
    {
      "cell_type": "markdown",
      "source": [
        "###1. Car Model\n",
        "\n",
        "- Remove numeric value\n",
        "- Remove unnecessary symbol"
      ],
      "metadata": {
        "id": "z-3grCZmWHW_"
      }
    },
    {
      "cell_type": "markdown",
      "source": [
        "Before Cleaning"
      ],
      "metadata": {
        "id": "ltxH9eZAnou_"
      }
    },
    {
      "cell_type": "code",
      "source": [
        "df['Car Model'].head()"
      ],
      "metadata": {
        "colab": {
          "base_uri": "https://localhost:8080/"
        },
        "id": "teuYV1Fwnv-V",
        "outputId": "0363f324-6222-4fab-ce4d-e481edf0b8f1"
      },
      "execution_count": 71,
      "outputs": [
        {
          "output_type": "execute_result",
          "data": {
            "text/plain": [
              "0            Bezza        X Premium        1.3      \n",
              "1            Elantra        EX Plus        1.6      \n",
              "2             City        S+ i-VTEC        1.5      \n",
              "3            Bezza        X Premium        1.3      \n",
              "4            Bezza        X Premium        1.3      \n",
              "Name: Car Model, dtype: object"
            ]
          },
          "metadata": {},
          "execution_count": 71
        }
      ]
    },
    {
      "cell_type": "markdown",
      "source": [
        "Cleaning"
      ],
      "metadata": {
        "id": "Wu6Mg2OKn9-5"
      }
    },
    {
      "cell_type": "code",
      "source": [
        "df['Car Model']=df['Car Model'].astype(str)"
      ],
      "metadata": {
        "id": "WXW5QiFYWs1Z"
      },
      "execution_count": 72,
      "outputs": []
    },
    {
      "cell_type": "code",
      "source": [
        "#Removing numeric values in 'Car Model'\n",
        "df['Car Model']=df['Car Model'].replace('\\d+', '', regex=True)"
      ],
      "metadata": {
        "id": "1rvmL1dgW5Ci"
      },
      "execution_count": 73,
      "outputs": []
    },
    {
      "cell_type": "code",
      "source": [
        "#Removing unnecessary symbols in 'Car Model'\n",
        "spec_chars = [\"!\",'\"',\"#\",\"%\",\"&\",\"'\",\"(\",\")\",\n",
        "              \"*\",\"+\",\",\",\".\",\"/\",\":\",\";\",\"<\",\n",
        "              \"=\",\">\",\"?\",\"@\",\"[\",\"\\\\\",\"]\",\"^\",\"_\",\n",
        "              \"`\",\"{\",\"|\",\"}\",\"~\"]\n",
        "for char in spec_chars:\n",
        "   df['Car Model']=df['Car Model'].str.replace(char, ' ', regex=True)"
      ],
      "metadata": {
        "id": "zM57P4xAXEy6"
      },
      "execution_count": 74,
      "outputs": []
    },
    {
      "cell_type": "markdown",
      "source": [
        "After Cleaning"
      ],
      "metadata": {
        "id": "9bBNOnp_oU7d"
      }
    },
    {
      "cell_type": "code",
      "source": [
        "df['Car Model'].head()"
      ],
      "metadata": {
        "colab": {
          "base_uri": "https://localhost:8080/"
        },
        "id": "dgMUqrn5XK_2",
        "outputId": "bfda40c3-158f-4ab3-807c-5de2b52685ea"
      },
      "execution_count": 75,
      "outputs": [
        {
          "output_type": "execute_result",
          "data": {
            "text/plain": [
              "0            Bezza        X Premium               \n",
              "1            Elantra        EX Plus               \n",
              "2             City        S  i-VTEC               \n",
              "3            Bezza        X Premium               \n",
              "4            Bezza        X Premium               \n",
              "Name: Car Model, dtype: object"
            ]
          },
          "metadata": {},
          "execution_count": 75
        }
      ]
    },
    {
      "cell_type": "markdown",
      "source": [
        "###2. Car Brand\n",
        "\n",
        "- Remove numeric values"
      ],
      "metadata": {
        "id": "L0oxFnrmaPBe"
      }
    },
    {
      "cell_type": "markdown",
      "source": [
        "Before Cleaning"
      ],
      "metadata": {
        "id": "K7G0-fd4oqCk"
      }
    },
    {
      "cell_type": "code",
      "source": [
        "df['Car Brand'].head()"
      ],
      "metadata": {
        "colab": {
          "base_uri": "https://localhost:8080/"
        },
        "id": "Pdm_MZSjo6ej",
        "outputId": "68882656-80f2-48f7-b7de-b2af4b7eb8c4"
      },
      "execution_count": 76,
      "outputs": [
        {
          "output_type": "execute_result",
          "data": {
            "text/plain": [
              "0            2016        Perodua      \n",
              "1            2015        Hyundai      \n",
              "2              2015        Honda      \n",
              "3            2016        Perodua      \n",
              "4            2017        Perodua      \n",
              "Name: Car Brand, dtype: object"
            ]
          },
          "metadata": {},
          "execution_count": 76
        }
      ]
    },
    {
      "cell_type": "code",
      "source": [
        "#Removing numeric values in 'Car Brand'\n",
        "df['Car Brand']=df['Car Brand'].replace('\\d+', '', regex=True)"
      ],
      "metadata": {
        "id": "FbJOP9xWauAJ"
      },
      "execution_count": 77,
      "outputs": []
    },
    {
      "cell_type": "markdown",
      "source": [
        "After Cleaning"
      ],
      "metadata": {
        "id": "k4Dc5TN1pJNG"
      }
    },
    {
      "cell_type": "code",
      "source": [
        "df['Car Brand'].head()"
      ],
      "metadata": {
        "colab": {
          "base_uri": "https://localhost:8080/"
        },
        "id": "Q381sf6CpLUj",
        "outputId": "86696179-60b5-4f8e-b753-e5eae6e11537"
      },
      "execution_count": 78,
      "outputs": [
        {
          "output_type": "execute_result",
          "data": {
            "text/plain": [
              "0                    Perodua      \n",
              "1                    Hyundai      \n",
              "2                      Honda      \n",
              "3                    Perodua      \n",
              "4                    Perodua      \n",
              "Name: Car Brand, dtype: object"
            ]
          },
          "metadata": {},
          "execution_count": 78
        }
      ]
    },
    {
      "cell_type": "markdown",
      "source": [
        "###3. Total Price\n",
        "\n",
        "- Remove RM and comma\n",
        "- Rename column\n",
        "- Change datatype to float "
      ],
      "metadata": {
        "id": "oaJ5CRlz45l7"
      }
    },
    {
      "cell_type": "markdown",
      "source": [
        "Before Cleaning"
      ],
      "metadata": {
        "id": "Tpm8kxYWpVuV"
      }
    },
    {
      "cell_type": "code",
      "source": [
        "df['Total Price'].head()"
      ],
      "metadata": {
        "colab": {
          "base_uri": "https://localhost:8080/"
        },
        "id": "SELUmjp_piMF",
        "outputId": "2a8f1d49-e459-4ed9-e0ab-d4b27744ee2a"
      },
      "execution_count": 79,
      "outputs": [
        {
          "output_type": "execute_result",
          "data": {
            "text/plain": [
              "0              RM          38,800\n",
              "1              RM          43,100\n",
              "2              RM          48,900\n",
              "3              RM          37,400\n",
              "4              RM          39,400\n",
              "Name: Total Price, dtype: object"
            ]
          },
          "metadata": {},
          "execution_count": 79
        }
      ]
    },
    {
      "cell_type": "code",
      "source": [
        "#Remove RM \n",
        "df['Total Price'] = df['Total Price'].str.replace(r'RM', '', regex=True)\n",
        "\n",
        "#Rename Column \n",
        "df.columns = df.columns.str.replace('Total Price', 'Total Price(RM)')\n",
        "\n",
        "#Remove comma and Change datatype from object to float\n",
        "df['Total Price(RM)'] = df['Total Price(RM)'].str.replace(\",\",\"\").astype(float)"
      ],
      "metadata": {
        "id": "iS-dmIKU327y"
      },
      "execution_count": 80,
      "outputs": []
    },
    {
      "cell_type": "markdown",
      "source": [
        "After Cleaning"
      ],
      "metadata": {
        "id": "gTaVK0oopwhL"
      }
    },
    {
      "cell_type": "code",
      "source": [
        "df['Total Price(RM)'].head()"
      ],
      "metadata": {
        "colab": {
          "base_uri": "https://localhost:8080/"
        },
        "id": "SIrEi6z9ptxv",
        "outputId": "a7aa763b-81dc-478d-cc26-3a72e1cd38f4"
      },
      "execution_count": 81,
      "outputs": [
        {
          "output_type": "execute_result",
          "data": {
            "text/plain": [
              "0    38800.0\n",
              "1    43100.0\n",
              "2    48900.0\n",
              "3    37400.0\n",
              "4    39400.0\n",
              "Name: Total Price(RM), dtype: float64"
            ]
          },
          "metadata": {},
          "execution_count": 81
        }
      ]
    },
    {
      "cell_type": "markdown",
      "source": [
        "###4. Price Per Month\n",
        "\n",
        "- Remove RM and unnecessary symbol\n",
        "- Rename column\n",
        "- Change data type to float"
      ],
      "metadata": {
        "id": "bpSFjurnbIcc"
      }
    },
    {
      "cell_type": "markdown",
      "source": [
        "Before Cleaning"
      ],
      "metadata": {
        "id": "vkNbp7rep4d2"
      }
    },
    {
      "cell_type": "code",
      "source": [
        "df['Price/Month'].head()"
      ],
      "metadata": {
        "colab": {
          "base_uri": "https://localhost:8080/"
        },
        "id": "VyTL9ESlp7Nw",
        "outputId": "a6776e3f-7998-48ea-d893-d64053ebec74"
      },
      "execution_count": 82,
      "outputs": [
        {
          "output_type": "execute_result",
          "data": {
            "text/plain": [
              "0              RM 425/mo        \n",
              "1              RM 472/mo        \n",
              "2              RM 536/mo        \n",
              "3              RM 410/mo        \n",
              "4              RM 432/mo        \n",
              "Name: Price/Month, dtype: object"
            ]
          },
          "metadata": {},
          "execution_count": 82
        }
      ]
    },
    {
      "cell_type": "code",
      "source": [
        "df['Price/Month']=df['Price/Month'].replace('/mo', '', regex=True)"
      ],
      "metadata": {
        "id": "KmVUKxRPbLUZ"
      },
      "execution_count": 83,
      "outputs": []
    },
    {
      "cell_type": "code",
      "source": [
        "#Remove RM \n",
        "df['Price/Month'] = df['Price/Month'].str.replace(r'RM', '', regex=True)\n",
        "\n",
        "#Rename Column \n",
        "df.columns = df.columns.str.replace('Price/Month', 'Price/Month(RM)')\n",
        "\n",
        "#Remove comma and Change datatype from object to float\n",
        "df['Price/Month(RM)'] = df['Price/Month(RM)'].str.replace(\",\",\"\").astype(float)"
      ],
      "metadata": {
        "id": "JPZ1-_8IbmiK"
      },
      "execution_count": 84,
      "outputs": []
    },
    {
      "cell_type": "markdown",
      "source": [
        "After Cleaning"
      ],
      "metadata": {
        "id": "T6pmMk4HqCH6"
      }
    },
    {
      "cell_type": "code",
      "source": [
        "df['Price/Month(RM)'].head()"
      ],
      "metadata": {
        "colab": {
          "base_uri": "https://localhost:8080/"
        },
        "id": "mnfbH8ZTqBfN",
        "outputId": "a261776e-36e5-41fc-8281-9cf2ddd5d03a"
      },
      "execution_count": 85,
      "outputs": [
        {
          "output_type": "execute_result",
          "data": {
            "text/plain": [
              "0    425.0\n",
              "1    472.0\n",
              "2    536.0\n",
              "3    410.0\n",
              "4    432.0\n",
              "Name: Price/Month(RM), dtype: float64"
            ]
          },
          "metadata": {},
          "execution_count": 85
        }
      ]
    },
    {
      "cell_type": "markdown",
      "source": [
        "###5. Mileage\n",
        "- Remove 'km' \n",
        "- Rename column"
      ],
      "metadata": {
        "id": "46V04M9pcK5S"
      }
    },
    {
      "cell_type": "markdown",
      "source": [
        "Before Cleaning"
      ],
      "metadata": {
        "id": "MgEMY-G8qGzM"
      }
    },
    {
      "cell_type": "code",
      "source": [
        "df['Mileage'].head()"
      ],
      "metadata": {
        "colab": {
          "base_uri": "https://localhost:8080/"
        },
        "id": "h5iCpJ3HqIjx",
        "outputId": "c0a8bccb-b79b-4001-e8ee-55bf04aff9c8"
      },
      "execution_count": 86,
      "outputs": [
        {
          "output_type": "execute_result",
          "data": {
            "text/plain": [
              "0    100,275 km\n",
              "1    117,616 km\n",
              "2     95,044 km\n",
              "3    111,466 km\n",
              "4     96,808 km\n",
              "Name: Mileage, dtype: object"
            ]
          },
          "metadata": {},
          "execution_count": 86
        }
      ]
    },
    {
      "cell_type": "code",
      "source": [
        "#Remove km \n",
        "df['Mileage'] = df['Mileage'].str.replace(r'km', '', regex=True)\n",
        "\n",
        "#Rename Column \n",
        "df.columns = df.columns.str.replace('Mileage', 'Mileage (km)')"
      ],
      "metadata": {
        "id": "UXU8a9Jacbd0"
      },
      "execution_count": 87,
      "outputs": []
    },
    {
      "cell_type": "markdown",
      "source": [
        "After Cleaning"
      ],
      "metadata": {
        "id": "19goCJkzwf5x"
      }
    },
    {
      "cell_type": "code",
      "source": [
        "df['Mileage (km)'].head()"
      ],
      "metadata": {
        "colab": {
          "base_uri": "https://localhost:8080/"
        },
        "id": "taG2o-65u3HF",
        "outputId": "319adfbf-887c-46a1-ce75-bb89ca532444"
      },
      "execution_count": 88,
      "outputs": [
        {
          "output_type": "execute_result",
          "data": {
            "text/plain": [
              "0    100,275 \n",
              "1    117,616 \n",
              "2     95,044 \n",
              "3    111,466 \n",
              "4     96,808 \n",
              "Name: Mileage (km), dtype: object"
            ]
          },
          "metadata": {},
          "execution_count": 88
        }
      ]
    },
    {
      "cell_type": "markdown",
      "source": [
        "###6. Transmission Type\n",
        "\n",
        "- Change to lower case\n",
        "- Replace column name"
      ],
      "metadata": {
        "id": "7cjJFAVbchCO"
      }
    },
    {
      "cell_type": "markdown",
      "source": [
        "Before Cleaning"
      ],
      "metadata": {
        "id": "oN9FJXNBr_TX"
      }
    },
    {
      "cell_type": "code",
      "source": [
        "df['Transmission'].head()"
      ],
      "metadata": {
        "colab": {
          "base_uri": "https://localhost:8080/"
        },
        "id": "nwCIa-SbsB0h",
        "outputId": "2865d6fb-ad1d-4a4c-81a6-b17b65da8650"
      },
      "execution_count": 89,
      "outputs": [
        {
          "output_type": "execute_result",
          "data": {
            "text/plain": [
              "0    Automatic\n",
              "1    Automatic\n",
              "2    Automatic\n",
              "3    Automatic\n",
              "4    Automatic\n",
              "Name: Transmission, dtype: object"
            ]
          },
          "metadata": {},
          "execution_count": 89
        }
      ]
    },
    {
      "cell_type": "code",
      "source": [
        "#Convert transmission value to lower case\n",
        "df['Transmission'] = df['Transmission'].str.lower()\n",
        "\n",
        "#Rename Column \n",
        "df.columns = df.columns.str.replace('Transmission', 'Transmission Type')"
      ],
      "metadata": {
        "id": "CQvl1xhddEC3"
      },
      "execution_count": 90,
      "outputs": []
    },
    {
      "cell_type": "markdown",
      "source": [
        "After Cleaning"
      ],
      "metadata": {
        "id": "dEM-fTuws50h"
      }
    },
    {
      "cell_type": "code",
      "source": [
        "df['Transmission Type'].head()"
      ],
      "metadata": {
        "colab": {
          "base_uri": "https://localhost:8080/"
        },
        "id": "LGhytIKjs4qm",
        "outputId": "93ada85a-dd4d-46c1-ae79-3b658fafcbce"
      },
      "execution_count": 91,
      "outputs": [
        {
          "output_type": "execute_result",
          "data": {
            "text/plain": [
              "0    automatic\n",
              "1    automatic\n",
              "2    automatic\n",
              "3    automatic\n",
              "4    automatic\n",
              "Name: Transmission Type, dtype: object"
            ]
          },
          "metadata": {},
          "execution_count": 91
        }
      ]
    },
    {
      "cell_type": "markdown",
      "source": [
        "###7. Location\n",
        "- Change to lower case"
      ],
      "metadata": {
        "id": "OlSx7_-9f7_b"
      }
    },
    {
      "cell_type": "markdown",
      "source": [
        "Before Cleaning"
      ],
      "metadata": {
        "id": "dKGUJ_8UsSaz"
      }
    },
    {
      "cell_type": "code",
      "source": [
        "df['Location'].head()"
      ],
      "metadata": {
        "colab": {
          "base_uri": "https://localhost:8080/"
        },
        "id": "TpbaHR3PtA-t",
        "outputId": "8f7c29a3-e636-4286-8754-a588bb0c3d61"
      },
      "execution_count": 92,
      "outputs": [
        {
          "output_type": "execute_result",
          "data": {
            "text/plain": [
              "0      Pahang\n",
              "1    Selangor\n",
              "2      Melaka\n",
              "3      Pahang\n",
              "4       Johor\n",
              "Name: Location, dtype: object"
            ]
          },
          "metadata": {},
          "execution_count": 92
        }
      ]
    },
    {
      "cell_type": "markdown",
      "source": [
        "After Cleaning"
      ],
      "metadata": {
        "id": "zQ-NOfHutEIX"
      }
    },
    {
      "cell_type": "code",
      "source": [
        "df['Location'] = df['Location'].str.lower()\n",
        "df['Location'].head()"
      ],
      "metadata": {
        "colab": {
          "base_uri": "https://localhost:8080/"
        },
        "id": "AsHUOjiVl3YS",
        "outputId": "0e7156b6-5be6-4aab-ee29-4ef7f57a1d7d"
      },
      "execution_count": 93,
      "outputs": [
        {
          "output_type": "execute_result",
          "data": {
            "text/plain": [
              "0      pahang\n",
              "1    selangor\n",
              "2      melaka\n",
              "3      pahang\n",
              "4       johor\n",
              "Name: Location, dtype: object"
            ]
          },
          "metadata": {},
          "execution_count": 93
        }
      ]
    },
    {
      "cell_type": "markdown",
      "source": [
        "###8. Car Highlights\n",
        "\n",
        "- Add degree symbol for View 360 highlight"
      ],
      "metadata": {
        "id": "0emNRVWyf_jz"
      }
    },
    {
      "cell_type": "markdown",
      "source": [
        "Before Cleaning"
      ],
      "metadata": {
        "id": "EdXKuTnKtH04"
      }
    },
    {
      "cell_type": "code",
      "source": [
        "df['Highlights'].head()"
      ],
      "metadata": {
        "colab": {
          "base_uri": "https://localhost:8080/"
        },
        "id": "0Xcq7fqStJPb",
        "outputId": "7eda6639-2557-400d-8a0c-c8f0154d478c"
      },
      "execution_count": 94,
      "outputs": [
        {
          "output_type": "execute_result",
          "data": {
            "text/plain": [
              "0        View 360, Keyless Push Start, SRS Airbag\n",
              "1          View 360, Leather Seat, Android Player\n",
              "2             Alarm System, SRS Airbag, ABS Brake\n",
              "3         View 360, Keyless Push Start, ABS Brake\n",
              "4    View 360, Android Player, Keyless Push Start\n",
              "Name: Highlights, dtype: object"
            ]
          },
          "metadata": {},
          "execution_count": 94
        }
      ]
    },
    {
      "cell_type": "code",
      "source": [
        "df['Highlights'] = df['Highlights'].str.replace(r'View 360', 'View 360°', regex=True)"
      ],
      "metadata": {
        "id": "Hjrd6gtTf4QC"
      },
      "execution_count": 95,
      "outputs": []
    },
    {
      "cell_type": "markdown",
      "source": [
        "After Cleaning"
      ],
      "metadata": {
        "id": "ILhdAfhYtMY0"
      }
    },
    {
      "cell_type": "code",
      "source": [
        "df['Highlights'].head()"
      ],
      "metadata": {
        "colab": {
          "base_uri": "https://localhost:8080/"
        },
        "id": "UBpddklHoc0P",
        "outputId": "15bdcbcf-5a56-4eb7-af23-227bf8e8cb00"
      },
      "execution_count": 96,
      "outputs": [
        {
          "output_type": "execute_result",
          "data": {
            "text/plain": [
              "0        View 360°, Keyless Push Start, SRS Airbag\n",
              "1          View 360°, Leather Seat, Android Player\n",
              "2              Alarm System, SRS Airbag, ABS Brake\n",
              "3         View 360°, Keyless Push Start, ABS Brake\n",
              "4    View 360°, Android Player, Keyless Push Start\n",
              "Name: Highlights, dtype: object"
            ]
          },
          "metadata": {},
          "execution_count": 96
        }
      ]
    },
    {
      "cell_type": "markdown",
      "source": [
        "Check if there is any missing value"
      ],
      "metadata": {
        "id": "3xzGN_ILtrg9"
      }
    },
    {
      "cell_type": "code",
      "source": [
        "df.isnull().sum()"
      ],
      "metadata": {
        "colab": {
          "base_uri": "https://localhost:8080/"
        },
        "id": "s38wGnxxtuic",
        "outputId": "72c5b693-0834-4a99-97a9-316686d39590"
      },
      "execution_count": 97,
      "outputs": [
        {
          "output_type": "execute_result",
          "data": {
            "text/plain": [
              "Car Model            0\n",
              "Car Brand            0\n",
              "Total Price(RM)      0\n",
              "Price/Month(RM)      0\n",
              "Mileage (km)         0\n",
              "Transmission Type    0\n",
              "Location             0\n",
              "Highlights           0\n",
              "dtype: int64"
            ]
          },
          "metadata": {},
          "execution_count": 97
        }
      ]
    },
    {
      "cell_type": "markdown",
      "source": [
        "##**b. Data visualization**"
      ],
      "metadata": {
        "id": "Yj9dsytbnlrp"
      }
    },
    {
      "cell_type": "markdown",
      "source": [
        "1. Import libraries"
      ],
      "metadata": {
        "id": "sg8a5RWp2woo"
      }
    },
    {
      "cell_type": "code",
      "source": [
        "%matplotlib inline\n",
        "import matplotlib.pyplot as plt\n",
        "import numpy as np\n",
        "import seaborn as sns"
      ],
      "metadata": {
        "id": "bQo8ugYs2v7_"
      },
      "execution_count": 100,
      "outputs": []
    },
    {
      "cell_type": "markdown",
      "source": [
        "**Price Per Month**"
      ],
      "metadata": {
        "id": "zkfMnuuN3I67"
      }
    },
    {
      "cell_type": "code",
      "source": [
        "df['Price/Month(RM)'].plot(kind='hist', color='pink', edgecolor='black', bins=5, figsize=(16,8))\n",
        "\n",
        "plt.xlim(xmin=0, xmax = 600)\n",
        "\n",
        "plt.xlabel('Price/Month (RM)', fontsize=18)\n",
        "\n",
        "plt.ylabel('Frequency', fontsize=18)\n",
        "\n",
        "plt.title('Distribution Price Per Month', fontdict={'fontsize': 24})"
      ],
      "metadata": {
        "colab": {
          "base_uri": "https://localhost:8080/",
          "height": 372
        },
        "id": "zW5klyxK3STV",
        "outputId": "22d9e2da-ce29-48b4-f8cf-18db41f581aa"
      },
      "execution_count": 101,
      "outputs": [
        {
          "output_type": "execute_result",
          "data": {
            "text/plain": [
              "Text(0.5, 1.0, 'Distribution Price Per Month')"
            ]
          },
          "metadata": {},
          "execution_count": 101
        },
        {
          "output_type": "display_data",
          "data": {
            "text/plain": [
              "<Figure size 1152x576 with 1 Axes>"
            ],
            "image/png": "[encoded data removed]"
          },
          "metadata": {
            "needs_background": "light"
          }
        }
      ]
    },
    {
      "cell_type": "markdown",
      "source": [
        "**Total Price**"
      ],
      "metadata": {
        "id": "tUwN6YW16WkR"
      }
    },
    {
      "cell_type": "code",
      "source": [
        "df['Total Price(RM)'].plot(kind='hist', color='pink', edgecolor='black', bins=5, figsize=(16,8))\n",
        "plt.xlim(xmin=0, xmax = 70000)\n",
        "plt.xlabel('Total Price (RM)', fontsize=18)\n",
        "plt.ylabel('Frequency', fontsize=18)\n",
        "plt.title('Distribution of Car Total Price', fontdict={'fontsize': 24})"
      ],
      "metadata": {
        "colab": {
          "base_uri": "https://localhost:8080/",
          "height": 370
        },
        "id": "8dQudnyS6Yld",
        "outputId": "4fd063be-12e7-4fb5-8d0c-dd332ae32982"
      },
      "execution_count": 102,
      "outputs": [
        {
          "output_type": "execute_result",
          "data": {
            "text/plain": [
              "Text(0.5, 1.0, 'Distribution of Car Total Price')"
            ]
          },
          "metadata": {},
          "execution_count": 102
        },
        {
          "output_type": "display_data",
          "data": {
            "text/plain": [
              "<Figure size 1152x576 with 1 Axes>"
            ],
            "image/png": "[encoded data removed]"
          },
          "metadata": {
            "needs_background": "light"
          }
        }
      ]
    },
    {
      "cell_type": "code",
      "source": [
        "df.groupby('Location').size().plot.bar()"
      ],
      "metadata": {
        "colab": {
          "base_uri": "https://localhost:8080/",
          "height": 370
        },
        "id": "zJ_5Z7GZ8FSa",
        "outputId": "34b8e197-45e8-44ef-8a90-3d2a0a40cf8d"
      },
      "execution_count": 103,
      "outputs": [
        {
          "output_type": "execute_result",
          "data": {
            "text/plain": [
              "<matplotlib.axes._subplots.AxesSubplot at 0x7f3f049e1910>"
            ]
          },
          "metadata": {},
          "execution_count": 103
        },
        {
          "output_type": "display_data",
          "data": {
            "text/plain": [
              "<Figure size 432x288 with 1 Axes>"
            ],
            "image/png": "[encoded data removed]"
          },
          "metadata": {
            "needs_background": "light"
          }
        }
      ]
    },
    {
      "cell_type": "code",
      "source": [
        "df['Car Brand'].value_counts().plot(kind='pie', label='', legend=True, autopct='%1.1f%%', figsize=(14,10))\n",
        "plt.title(\"Percentage of Car Brand\", fontdict={'fontsize': 24})\n",
        "plt.show()"
      ],
      "metadata": {
        "colab": {
          "base_uri": "https://localhost:8080/",
          "height": 564
        },
        "id": "yxF3tHcIAxsP",
        "outputId": "8b87ace2-68da-4f28-fe83-eff95f22ebf3"
      },
      "execution_count": 104,
      "outputs": [
        {
          "output_type": "display_data",
          "data": {
            "text/plain": [
              "<Figure size 1008x720 with 1 Axes>"
            ],
            "image/png": "[encoded data removed]"
          },
          "metadata": {}
        }
      ]
    },
    {
      "cell_type": "code",
      "source": [
        "sns.lmplot(x='Total Price(RM)',y='Price/Month(RM)',data=df,fit_reg=True, height=8)\n",
        "plt.title(\"Scatter Plot of Total Price against Price Per Month\\n\", fontdict={'fontsize': 18})\n",
        "plt.xlabel('Total Price(RM)', fontsize=16)\n",
        "plt.ylabel('Price/Month(RM)', fontsize=16)\n",
        "plt.show()"
      ],
      "metadata": {
        "colab": {
          "base_uri": "https://localhost:8080/",
          "height": 631
        },
        "id": "aM7NUz6Cjnz_",
        "outputId": "78856535-7705-402e-8690-f04a69110bec"
      },
      "execution_count": 109,
      "outputs": [
        {
          "output_type": "display_data",
          "data": {
            "text/plain": [
              "<Figure size 576x576 with 1 Axes>"
            ],
            "image/png": "[encoded data removed]"
          },
          "metadata": {
            "needs_background": "light"
          }
        }
      ]
    },
    {
      "cell_type": "markdown",
      "source": [
        "#**3. Load**"
      ],
      "metadata": {
        "id": "XKgdaml0znkL"
      }
    },
    {
      "cell_type": "markdown",
      "source": [
        "All data after cleaning"
      ],
      "metadata": {
        "id": "pMyUF8N639Su"
      }
    },
    {
      "cell_type": "code",
      "source": [
        "df.head(len(df))"
      ],
      "metadata": {
        "colab": {
          "base_uri": "https://localhost:8080/",
          "height": 1000
        },
        "id": "FH93l3A5zedn",
        "outputId": "558e73c6-7790-45df-96e5-904fb71dfcf2"
      },
      "execution_count": 110,
      "outputs": [
        {
          "output_type": "execute_result",
          "data": {
            "text/plain": [
              "                                           Car Model  \\\n",
              "0              Bezza        X Premium                  \n",
              "1              Elantra        EX Plus                  \n",
              "2               City        S  i-VTEC                  \n",
              "3              Bezza        X Premium                  \n",
              "4              Bezza        X Premium                  \n",
              "..                                               ...   \n",
              "103            Persona        Premium                  \n",
              "104              Saga        Standard                  \n",
              "105          Persona        Executive                  \n",
              "106                    Bezza        G                  \n",
              "107           Persona        Standard                  \n",
              "\n",
              "                         Car Brand  Total Price(RM)  Price/Month(RM)  \\\n",
              "0                    Perodua                38800.0            425.0   \n",
              "1                    Hyundai                43100.0            472.0   \n",
              "2                      Honda                48900.0            536.0   \n",
              "3                    Perodua                37400.0            410.0   \n",
              "4                    Perodua                39400.0            432.0   \n",
              "..                             ...              ...              ...   \n",
              "103                   Proton                38200.0            419.0   \n",
              "104                   Proton                34900.0            382.0   \n",
              "105                   Proton                42800.0            469.0   \n",
              "106                  Perodua                36400.0            399.0   \n",
              "107                   Proton                39900.0            437.0   \n",
              "\n",
              "    Mileage (km) Transmission Type      Location  \\\n",
              "0       100,275          automatic        pahang   \n",
              "1       117,616          automatic      selangor   \n",
              "2        95,044          automatic        melaka   \n",
              "3       111,466          automatic        pahang   \n",
              "4        96,808          automatic         johor   \n",
              "..           ...               ...           ...   \n",
              "103      89,684          automatic  kuala lumpur   \n",
              "104      15,971          automatic        melaka   \n",
              "105      55,464          automatic        melaka   \n",
              "106       9,057          automatic  kuala lumpur   \n",
              "107      41,631          automatic         perak   \n",
              "\n",
              "                                            Highlights  \n",
              "0            View 360°, Keyless Push Start, SRS Airbag  \n",
              "1              View 360°, Leather Seat, Android Player  \n",
              "2                  Alarm System, SRS Airbag, ABS Brake  \n",
              "3             View 360°, Keyless Push Start, ABS Brake  \n",
              "4        View 360°, Android Player, Keyless Push Start  \n",
              "..                                                 ...  \n",
              "103          View 360°, Android Player, Reverse Camera  \n",
              "104                   View 360°, ABS Brake, SRS Airbag  \n",
              "105  View 360°, Keyless Push Start, Touchscreen Aud...  \n",
              "106                ABS Brake, SRS Airbag, Alarm System  \n",
              "107  View 360°, Keyless Push Start, Touchscreen Aud...  \n",
              "\n",
              "[108 rows x 8 columns]"
            ],
            "text/html": [
              "\n",
              "  <div id=\"df-641713bf-164c-481f-8ecd-368b0098f75c\">\n",
              "    <div class=\"colab-df-container\">\n",
              "      <div>\n",
              "<style scoped>\n",
              "    .dataframe tbody tr th:only-of-type {\n",
              "        vertical-align: middle;\n",
              "    }\n",
              "\n",
              "    .dataframe tbody tr th {\n",
              "        vertical-align: top;\n",
              "    }\n",
              "\n",
              "    .dataframe thead th {\n",
              "        text-align: right;\n",
              "    }\n",
              "</style>\n",
              "<table border=\"1\" class=\"dataframe\">\n",
              "  <thead>\n",
              "    <tr style=\"text-align: right;\">\n",
              "      <th></th>\n",
              "      <th>Car Model</th>\n",
              "      <th>Car Brand</th>\n",
              "      <th>Total Price(RM)</th>\n",
              "      <th>Price/Month(RM)</th>\n",
              "      <th>Mileage (km)</th>\n",
              "      <th>Transmission Type</th>\n",
              "      <th>Location</th>\n",
              "      <th>Highlights</th>\n",
              "    </tr>\n",
              "  </thead>\n",
              "  <tbody>\n",
              "    <tr>\n",
              "      <th>0</th>\n",
              "      <td>Bezza        X Premium</td>\n",
              "      <td>Perodua</td>\n",
              "      <td>38800.0</td>\n",
              "      <td>425.0</td>\n",
              "      <td>100,275</td>\n",
              "      <td>automatic</td>\n",
              "      <td>pahang</td>\n",
              "      <td>View 360°, Keyless Push Start, SRS Airbag</td>\n",
              "    </tr>\n",
              "    <tr>\n",
              "      <th>1</th>\n",
              "      <td>Elantra        EX Plus</td>\n",
              "      <td>Hyundai</td>\n",
              "      <td>43100.0</td>\n",
              "      <td>472.0</td>\n",
              "      <td>117,616</td>\n",
              "      <td>automatic</td>\n",
              "      <td>selangor</td>\n",
              "      <td>View 360°, Leather Seat, Android Player</td>\n",
              "    </tr>\n",
              "    <tr>\n",
              "      <th>2</th>\n",
              "      <td>City        S  i-VTEC</td>\n",
              "      <td>Honda</td>\n",
              "      <td>48900.0</td>\n",
              "      <td>536.0</td>\n",
              "      <td>95,044</td>\n",
              "      <td>automatic</td>\n",
              "      <td>melaka</td>\n",
              "      <td>Alarm System, SRS Airbag, ABS Brake</td>\n",
              "    </tr>\n",
              "    <tr>\n",
              "      <th>3</th>\n",
              "      <td>Bezza        X Premium</td>\n",
              "      <td>Perodua</td>\n",
              "      <td>37400.0</td>\n",
              "      <td>410.0</td>\n",
              "      <td>111,466</td>\n",
              "      <td>automatic</td>\n",
              "      <td>pahang</td>\n",
              "      <td>View 360°, Keyless Push Start, ABS Brake</td>\n",
              "    </tr>\n",
              "    <tr>\n",
              "      <th>4</th>\n",
              "      <td>Bezza        X Premium</td>\n",
              "      <td>Perodua</td>\n",
              "      <td>39400.0</td>\n",
              "      <td>432.0</td>\n",
              "      <td>96,808</td>\n",
              "      <td>automatic</td>\n",
              "      <td>johor</td>\n",
              "      <td>View 360°, Android Player, Keyless Push Start</td>\n",
              "    </tr>\n",
              "    <tr>\n",
              "      <th>...</th>\n",
              "      <td>...</td>\n",
              "      <td>...</td>\n",
              "      <td>...</td>\n",
              "      <td>...</td>\n",
              "      <td>...</td>\n",
              "      <td>...</td>\n",
              "      <td>...</td>\n",
              "      <td>...</td>\n",
              "    </tr>\n",
              "    <tr>\n",
              "      <th>103</th>\n",
              "      <td>Persona        Premium</td>\n",
              "      <td>Proton</td>\n",
              "      <td>38200.0</td>\n",
              "      <td>419.0</td>\n",
              "      <td>89,684</td>\n",
              "      <td>automatic</td>\n",
              "      <td>kuala lumpur</td>\n",
              "      <td>View 360°, Android Player, Reverse Camera</td>\n",
              "    </tr>\n",
              "    <tr>\n",
              "      <th>104</th>\n",
              "      <td>Saga        Standard</td>\n",
              "      <td>Proton</td>\n",
              "      <td>34900.0</td>\n",
              "      <td>382.0</td>\n",
              "      <td>15,971</td>\n",
              "      <td>automatic</td>\n",
              "      <td>melaka</td>\n",
              "      <td>View 360°, ABS Brake, SRS Airbag</td>\n",
              "    </tr>\n",
              "    <tr>\n",
              "      <th>105</th>\n",
              "      <td>Persona        Executive</td>\n",
              "      <td>Proton</td>\n",
              "      <td>42800.0</td>\n",
              "      <td>469.0</td>\n",
              "      <td>55,464</td>\n",
              "      <td>automatic</td>\n",
              "      <td>melaka</td>\n",
              "      <td>View 360°, Keyless Push Start, Touchscreen Aud...</td>\n",
              "    </tr>\n",
              "    <tr>\n",
              "      <th>106</th>\n",
              "      <td>Bezza        G</td>\n",
              "      <td>Perodua</td>\n",
              "      <td>36400.0</td>\n",
              "      <td>399.0</td>\n",
              "      <td>9,057</td>\n",
              "      <td>automatic</td>\n",
              "      <td>kuala lumpur</td>\n",
              "      <td>ABS Brake, SRS Airbag, Alarm System</td>\n",
              "    </tr>\n",
              "    <tr>\n",
              "      <th>107</th>\n",
              "      <td>Persona        Standard</td>\n",
              "      <td>Proton</td>\n",
              "      <td>39900.0</td>\n",
              "      <td>437.0</td>\n",
              "      <td>41,631</td>\n",
              "      <td>automatic</td>\n",
              "      <td>perak</td>\n",
              "      <td>View 360°, Keyless Push Start, Touchscreen Aud...</td>\n",
              "    </tr>\n",
              "  </tbody>\n",
              "</table>\n",
              "<p>108 rows × 8 columns</p>\n",
              "</div>\n",
              "      <button class=\"colab-df-convert\" onclick=\"convertToInteractive('df-641713bf-164c-481f-8ecd-368b0098f75c')\"\n",
              "              title=\"Convert this dataframe to an interactive table.\"\n",
              "              style=\"display:none;\">\n",
              "        \n",
              "  <svg xmlns=\"http://www.w3.org/2000/svg\" height=\"24px\"viewBox=\"0 0 24 24\"\n",
              "       width=\"24px\">\n",
              "    <path d=\"M0 0h24v24H0V0z\" fill=\"none\"/>\n",
              "    <path d=\"M18.56 5.44l.94 2.06.94-2.06 2.06-.94-2.06-.94-.94-2.06-.94 2.06-2.06.94zm-11 1L8.5 8.5l.94-2.06 2.06-.94-2.06-.94L8.5 2.5l-.94 2.06-2.06.94zm10 10l.94 2.06.94-2.06 2.06-.94-2.06-.94-.94-2.06-.94 2.06-2.06.94z\"/><path d=\"M17.41 7.96l-1.37-1.37c-.4-.4-.92-.59-1.43-.59-.52 0-1.04.2-1.43.59L10.3 9.45l-7.72 7.72c-.78.78-.78 2.05 0 2.83L4 21.41c.39.39.9.59 1.41.59.51 0 1.02-.2 1.41-.59l7.78-7.78 2.81-2.81c.8-.78.8-2.07 0-2.86zM5.41 20L4 18.59l7.72-7.72 1.47 1.35L5.41 20z\"/>\n",
              "  </svg>\n",
              "      </button>\n",
              "      \n",
              "  <style>\n",
              "    .colab-df-container {\n",
              "      display:flex;\n",
              "      flex-wrap:wrap;\n",
              "      gap: 12px;\n",
              "    }\n",
              "\n",
              "    .colab-df-convert {\n",
              "      background-color: #E8F0FE;\n",
              "      border: none;\n",
              "      border-radius: 50%;\n",
              "      cursor: pointer;\n",
              "      display: none;\n",
              "      fill: #1967D2;\n",
              "      height: 32px;\n",
              "      padding: 0 0 0 0;\n",
              "      width: 32px;\n",
              "    }\n",
              "\n",
              "    .colab-df-convert:hover {\n",
              "      background-color: #E2EBFA;\n",
              "      box-shadow: 0px 1px 2px rgba(60, 64, 67, 0.3), 0px 1px 3px 1px rgba(60, 64, 67, 0.15);\n",
              "      fill: #174EA6;\n",
              "    }\n",
              "\n",
              "    [theme=dark] .colab-df-convert {\n",
              "      background-color: #3B4455;\n",
              "      fill: #D2E3FC;\n",
              "    }\n",
              "\n",
              "    [theme=dark] .colab-df-convert:hover {\n",
              "      background-color: #434B5C;\n",
              "      box-shadow: 0px 1px 3px 1px rgba(0, 0, 0, 0.15);\n",
              "      filter: drop-shadow(0px 1px 2px rgba(0, 0, 0, 0.3));\n",
              "      fill: #FFFFFF;\n",
              "    }\n",
              "  </style>\n",
              "\n",
              "      <script>\n",
              "        const buttonEl =\n",
              "          document.querySelector('#df-641713bf-164c-481f-8ecd-368b0098f75c button.colab-df-convert');\n",
              "        buttonEl.style.display =\n",
              "          google.colab.kernel.accessAllowed ? 'block' : 'none';\n",
              "\n",
              "        async function convertToInteractive(key) {\n",
              "          const element = document.querySelector('#df-641713bf-164c-481f-8ecd-368b0098f75c');\n",
              "          const dataTable =\n",
              "            await google.colab.kernel.invokeFunction('convertToInteractive',\n",
              "                                                     [key], {});\n",
              "          if (!dataTable) return;\n",
              "\n",
              "          const docLinkHtml = 'Like what you see? Visit the ' +\n",
              "            '<a target=\"_blank\" href=https://colab.research.google.com/notebooks/data_table.ipynb>data table notebook</a>'\n",
              "            + ' to learn more about interactive tables.';\n",
              "          element.innerHTML = '';\n",
              "          dataTable['output_type'] = 'display_data';\n",
              "          await google.colab.output.renderOutput(dataTable, element);\n",
              "          const docLink = document.createElement('div');\n",
              "          docLink.innerHTML = docLinkHtml;\n",
              "          element.appendChild(docLink);\n",
              "        }\n",
              "      </script>\n",
              "    </div>\n",
              "  </div>\n",
              "  "
            ]
          },
          "metadata": {},
          "execution_count": 110
        }
      ]
    },
    {
      "cell_type": "markdown",
      "source": [
        "Save dataframes into csv file"
      ],
      "metadata": {
        "id": "wXaoTqc938cC"
      }
    },
    {
      "cell_type": "code",
      "source": [
        "df.to_csv('carsome_cleaned_data.csv')"
      ],
      "metadata": {
        "id": "-y3nOOA7yg-G"
      },
      "execution_count": 111,
      "outputs": []
    }
  ]
}